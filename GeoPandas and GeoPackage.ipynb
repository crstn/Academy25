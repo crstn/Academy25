{
 "cells": [
  {
   "cell_type": "markdown",
   "metadata": {
    "id": "C8-86bu6GdLd"
   },
   "source": [
    "# Data Management with GeoPandas and GeoPackage\n",
    "\n",
    "Uncomment the next block if you don't have GeoPandas:"
   ]
  },
  {
   "cell_type": "code",
   "execution_count": null,
   "metadata": {
    "colab": {
     "base_uri": "https://localhost:8080/"
    },
    "executionInfo": {
     "elapsed": 11776,
     "status": "ok",
     "timestamp": 1742398378145,
     "user": {
      "displayName": "Carsten Keßler",
      "userId": "05890018835614948184"
     },
     "user_tz": -60
    },
    "id": "6VMh2NFshuNe",
    "outputId": "4adbf275-0331-4448-b6b9-1840c90afde8"
   },
   "outputs": [],
   "source": [
    "#!pip install geopandas"
   ]
  },
  {
   "cell_type": "code",
   "execution_count": null,
   "metadata": {
    "executionInfo": {
     "elapsed": 4280,
     "status": "ok",
     "timestamp": 1742414963847,
     "user": {
      "displayName": "Carsten Keßler",
      "userId": "05890018835614948184"
     },
     "user_tz": -60
    },
    "id": "kteGwy_3GRVK",
    "tags": []
   },
   "outputs": [],
   "source": [
    "import os\n",
    "import requests\n",
    "import zipfile\n",
    "import geopandas"
   ]
  },
  {
   "cell_type": "code",
   "execution_count": null,
   "metadata": {
    "colab": {
     "base_uri": "https://localhost:8080/"
    },
    "executionInfo": {
     "elapsed": 141438,
     "status": "ok",
     "timestamp": 1742415108267,
     "user": {
      "displayName": "Carsten Keßler",
      "userId": "05890018835614948184"
     },
     "user_tz": -60
    },
    "id": "_XwdDxIhh4Wn",
    "outputId": "021f7f27-a411-4301-ee76-ace877bbbf52",
    "tags": []
   },
   "outputs": [],
   "source": [
    "file = \"AdminAreasGermany.zip\"\n",
    "url=\"https://daten.gdz.bkg.bund.de/produkte/vg/vg250_ebenen_0101/aktuell/vg250_01-01.utm32s.shape.ebenen.zip\"\n",
    "\n",
    "if not os.path.isfile(file):\n",
    "    response = requests.get(url)\n",
    "    with open(file, mode=\"wb\") as file:\n",
    "        file.write(response.content)\n",
    "    print(\"Download of \", file, \"complete.\")\n",
    "else:\n",
    "    print(file, \"was already downloaded.\")"
   ]
  },
  {
   "cell_type": "markdown",
   "metadata": {
    "id": "LmjvhSiXHhFy"
   },
   "source": [
    "Unzip:\n",
    "\n",
    "… on Google Colab:"
   ]
  },
  {
   "cell_type": "code",
   "execution_count": null,
   "metadata": {
    "colab": {
     "base_uri": "https://localhost:8080/"
    },
    "executionInfo": {
     "elapsed": 1415,
     "status": "ok",
     "timestamp": 1742415117338,
     "user": {
      "displayName": "Carsten Keßler",
      "userId": "05890018835614948184"
     },
     "user_tz": -60
    },
    "id": "5XJiIKuUI2N1",
    "outputId": "bf7a1764-3115-4733-d7cf-74f3d8ffa708",
    "tags": []
   },
   "outputs": [],
   "source": [
    "!unzip AdminAreasGermany.zip"
   ]
  },
  {
   "cell_type": "markdown",
   "metadata": {
    "id": "Htdc_UcOJGzU"
   },
   "source": [
    "… else:"
   ]
  },
  {
   "cell_type": "code",
   "execution_count": null,
   "metadata": {
    "id": "NnBs94eqHfVJ"
   },
   "outputs": [],
   "source": [
    "with zipfile.ZipFile(file,\"r\") as zip_ref:\n",
    "    zip_ref.extractall()"
   ]
  },
  {
   "cell_type": "markdown",
   "metadata": {
    "id": "RD6FYzUeCTky"
   },
   "source": [
    "Let's load two of the shapefiles with GeoPandas:"
   ]
  },
  {
   "cell_type": "code",
   "execution_count": null,
   "metadata": {
    "executionInfo": {
     "elapsed": 103,
     "status": "ok",
     "timestamp": 1742415381761,
     "user": {
      "displayName": "Carsten Keßler",
      "userId": "05890018835614948184"
     },
     "user_tz": -60
    },
    "id": "UHoX4ctlHiJX",
    "tags": []
   },
   "outputs": [],
   "source": [
    "kreise = geopandas.read_file(\"vg250_01-01.utm32s.shape.ebenen/vg250_ebenen_0101/VG250_KRS.shp\")"
   ]
  },
  {
   "cell_type": "code",
   "execution_count": null,
   "metadata": {
    "colab": {
     "base_uri": "https://localhost:8080/",
     "height": 462
    },
    "executionInfo": {
     "elapsed": 482,
     "status": "ok",
     "timestamp": 1742415383157,
     "user": {
      "displayName": "Carsten Keßler",
      "userId": "05890018835614948184"
     },
     "user_tz": -60
    },
    "id": "T9OkabUuC3Wu",
    "outputId": "4dba6580-4114-4a8f-f3a4-f800c6209d99",
    "tags": []
   },
   "outputs": [],
   "source": [
    "kreise.plot()"
   ]
  },
  {
   "cell_type": "code",
   "execution_count": null,
   "metadata": {
    "colab": {
     "base_uri": "https://localhost:8080/",
     "height": 462
    },
    "executionInfo": {
     "elapsed": 407,
     "status": "ok",
     "timestamp": 1742415463159,
     "user": {
      "displayName": "Carsten Keßler",
      "userId": "05890018835614948184"
     },
     "user_tz": -60
    },
    "id": "9lzaXq-KDD5Z",
    "outputId": "1385756b-91b4-4901-b86b-c59fd5bb1ed8",
    "tags": []
   },
   "outputs": [],
   "source": [
    "laender = geopandas.read_file(\"vg250_01-01.utm32s.shape.ebenen/vg250_ebenen_0101/VG250_LAN.shp\")\n",
    "laender.plot()"
   ]
  },
  {
   "cell_type": "code",
   "execution_count": null,
   "metadata": {
    "executionInfo": {
     "elapsed": 468,
     "status": "ok",
     "timestamp": 1742415696948,
     "user": {
      "displayName": "Carsten Keßler",
      "userId": "05890018835614948184"
     },
     "user_tz": -60
    },
    "id": "2vATbTgGDgBf",
    "tags": []
   },
   "outputs": [],
   "source": [
    "kreise.to_file(\"verwaltungsgrenzen.gpkg\", layer='kreise', driver=\"GPKG\")\n",
    "laender.to_file(\"verwaltungsgrenzen.gpkg\", layer='laender', driver=\"GPKG\")"
   ]
  },
  {
   "cell_type": "code",
   "execution_count": null,
   "metadata": {},
   "outputs": [],
   "source": []
  }
 ],
 "metadata": {
  "colab": {
   "authorship_tag": "ABX9TyM4S5uNBKw+mmAjk56iMw0T",
   "mount_file_id": "161KC4xTmWqkq0Gwhzwv32lBaRHd0n16A",
   "provenance": []
  },
  "kernelspec": {
   "display_name": "Python 3 (ipykernel)",
   "language": "python",
   "name": "python3"
  },
  "language_info": {
   "codemirror_mode": {
    "name": "ipython",
    "version": 3
   },
   "file_extension": ".py",
   "mimetype": "text/x-python",
   "name": "python",
   "nbconvert_exporter": "python",
   "pygments_lexer": "ipython3",
   "version": "3.10.12"
  }
 },
 "nbformat": 4,
 "nbformat_minor": 4
}
